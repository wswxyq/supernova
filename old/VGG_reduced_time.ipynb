{
 "cells": [
  {
   "cell_type": "code",
   "execution_count": 1,
   "metadata": {},
   "outputs": [],
   "source": [
    "from __future__ import print_function, division\n",
    "import os\n",
    "import torch\n",
    "import pandas as pd\n",
    "import numpy as np\n",
    "import matplotlib.pyplot as plt\n",
    "from torch.utils.data import Dataset, DataLoader\n",
    "from torchvision import transforms, utils\n",
    "from os import listdir\n"
   ]
  },
  {
   "cell_type": "code",
   "execution_count": 2,
   "metadata": {},
   "outputs": [],
   "source": [
    "data_path = ['fd-1kpc-9.6sm-0-overlaid.csv/npz_subevents']\n",
    "file_list = []\n",
    "for path_ in data_path:\n",
    "    for file_ in listdir(path_):\n",
    "        file_list.append(os.path.join(path_, file_))\n",
    "file_list.sort()"
   ]
  },
  {
   "cell_type": "code",
   "execution_count": 3,
   "metadata": {},
   "outputs": [
    {
     "data": {
      "text/plain": [
       "\"siglist=[]\\nfor items in file_list:\\n    data = np.load( items )\\n    siglist.append(data['sig'])\\n\\nsigindex=np.array(file_list, dtype='U')[np.array(siglist, dtype=int)==1]\\nbkgindex=np.array(file_list, dtype='U')[np.array(siglist, dtype=int)==0]\\nprint(len(sigindex))\\nprint(len(bkgindex))\""
      ]
     },
     "execution_count": 3,
     "metadata": {},
     "output_type": "execute_result"
    }
   ],
   "source": [
    "'''siglist=[]\n",
    "for items in file_list:\n",
    "    data = np.load( items )\n",
    "    siglist.append(data['sig'])\n",
    "\n",
    "sigindex=np.array(file_list, dtype='U')[np.array(siglist, dtype=int)==1]\n",
    "bkgindex=np.array(file_list, dtype='U')[np.array(siglist, dtype=int)==0]\n",
    "print(len(sigindex))\n",
    "print(len(bkgindex))'''"
   ]
  },
  {
   "cell_type": "code",
   "execution_count": 3,
   "metadata": {},
   "outputs": [],
   "source": [
    "# image size\n",
    "z_size = 448\n",
    "xy_size = 384\n",
    "\n",
    "\n",
    "def shadow(pixel_loc, matrix, step=1):\n",
    "    for i in range( np.max([pixel_loc[0]-step, 0]), np.min([pixel_loc[0]+step+1, matrix.shape[0]]) ):\n",
    "        for j in range( np.max([pixel_loc[1]-step, 0]), np.min([pixel_loc[1]+step+1, matrix.shape[1]])):\n",
    "            matrix[i, j] = 1\n",
    "    # in place modification of the matrix\n",
    "\n",
    "shadowstep=10\n",
    "from torch.utils.data import Dataset, DataLoader, TensorDataset\n",
    "class MyDataset(Dataset):\n",
    "    def __init__(self, file_list_):\n",
    "        self.file_list = file_list_\n",
    "        self.len = len(file_list_)\n",
    "        \n",
    "    def __getitem__(self, index):\n",
    "        file_name = self.file_list[index]\n",
    "        data = np.load( file_name ) \n",
    "        labelxz = data['labelxz']\n",
    "        labelyz = data['labelyz']\n",
    "        labelxzimg=np.zeros((z_size, xy_size), dtype=int)\n",
    "        labelyzimg=np.zeros((z_size, xy_size), dtype=int)\n",
    "        for i in range(labelxz.shape[0]):\n",
    "            shadow(labelxz[i,:], labelxzimg, step=shadowstep)\n",
    "        for i in range(labelyz.shape[0]):\n",
    "            shadow(labelyz[i,:], labelyzimg, step=shadowstep)\n",
    "\n",
    "        return torch.from_numpy(data['imxz'][:, :, :]).to(torch.float), \\\n",
    "                torch.from_numpy(data['imyz'][:, :, :]).to(torch.float), \\\n",
    "                torch.from_numpy(labelxzimg).to(torch.long), \\\n",
    "                torch.from_numpy(labelyzimg).to(torch.long)\n",
    "        \n",
    "    def __len__(self):\n",
    "        return self.len\n",
    "\n",
    "mydataset = MyDataset(file_list)\n",
    "batch_size_train = 4\n",
    "batch_size_test = 2\n",
    "\n",
    "\n",
    "train_size = int(0.8 * len(mydataset))\n",
    "test_size = len(mydataset) - train_size\n",
    "train_dataset, test_dataset = torch.utils.data.random_split(mydataset, [train_size, test_size], generator=torch.Generator().manual_seed(42))\n",
    "\n",
    "trainloader = torch.utils.data.DataLoader(train_dataset, batch_size=batch_size_train,\n",
    "                                            shuffle=True)\n",
    "testloader = torch.utils.data.DataLoader(test_dataset, batch_size=batch_size_test,\n",
    "                                            shuffle=False)                "
   ]
  },
  {
   "cell_type": "code",
   "execution_count": 4,
   "metadata": {},
   "outputs": [],
   "source": [
    "import torch.nn as nn\n",
    "import torch.nn.functional as F\n",
    "class Net(nn.Module):\n",
    "    def __init__(self):\n",
    "        super().__init__()\n",
    "        self.pool = nn.MaxPool2d(2, 2, ceil_mode=True)\n",
    "        self.unpool=nn.Upsample(scale_factor=2, mode='nearest')\n",
    "\n",
    "        self.conv1_1 = nn.Conv2d(2, 64, 3) \n",
    "        self.conv1_2 = nn.Conv2d(2, 64, 3) \n",
    "        \n",
    "        self.conv2_1 = nn.Conv2d(64, 128, 3)\n",
    "        self.conv2_2 = nn.Conv2d(64, 128, 3)\n",
    "\n",
    "        self.conv3_1 = nn.Conv2d(128, 256, 3)\n",
    "        self.conv3_2 = nn.Conv2d(128, 256, 3) \n",
    "\n",
    "        self.conv4_1 = nn.Conv2d(256, 256, 3)\n",
    "        self.conv4_2 = nn.Conv2d(256, 256, 3)\n",
    "\n",
    "        self.conv5_1 = nn.Conv2d(256, 512, 3)\n",
    "        self.conv5_2 = nn.Conv2d(256, 512, 3)\n",
    "\n",
    "        self.conv6_1 = nn.Conv2d(512, 512, 3)\n",
    "        self.conv6_2 = nn.Conv2d(512, 512, 3)\n",
    "\n",
    "        self.conv7_1 = nn.Conv2d(512, 512, 3)\n",
    "        self.conv7_2 = nn.Conv2d(512, 512, 3)\n",
    "\n",
    "        self.conv8_1 = nn.Conv2d(512, 512, 3)\n",
    "        self.conv8_2 = nn.Conv2d(512, 512, 3)\n",
    "\n",
    "        self.convtrans1_1 = nn.ConvTranspose2d(1024, 512, 2)\n",
    "        self.convtrans1_2 = nn.ConvTranspose2d(1024, 512, 2)\n",
    "\n",
    "        self.convtrans2_1 = nn.ConvTranspose2d(512, 512, 2)\n",
    "        self.convtrans2_2 = nn.ConvTranspose2d(512, 512, 2)\n",
    "\n",
    "        self.convtrans3_1 = nn.ConvTranspose2d(512, 256, 2)\n",
    "        self.convtrans3_2 = nn.ConvTranspose2d(512, 256, 2)\n",
    "\n",
    "        self.convtrans4_1 = nn.ConvTranspose2d(256, 256, 2)\n",
    "        self.convtrans4_2 = nn.ConvTranspose2d(256, 256, 2)\n",
    "\n",
    "        self.convtrans5_1 = nn.ConvTranspose2d(256, 128, 2)\n",
    "        self.convtrans5_2 = nn.ConvTranspose2d(256, 128, 2)\n",
    "\n",
    "        self.convtrans6_1 = nn.ConvTranspose2d(128, 64, 3)\n",
    "        self.convtrans6_2 = nn.ConvTranspose2d(128, 64, 3)\n",
    "\n",
    "        self.convtrans7_1 = nn.ConvTranspose2d(64, 2, 2)\n",
    "        self.convtrans7_2 = nn.ConvTranspose2d(64, 2, 2)\n",
    "\n",
    "        self.convtrans8_1 = nn.ConvTranspose2d(2, 2, 3)\n",
    "        self.convtrans8_2 = nn.ConvTranspose2d(2, 2, 3)\n",
    "\n",
    "\n",
    "\n",
    "    def forward(self, x1, x2):\n",
    "        #print(x1.shape, x2.shape)\n",
    "        # x1, x2 shape: (896, 384)      channel = 1\n",
    "        x1_origin = x1\n",
    "        x2_origin = x2\n",
    "\n",
    "        x1 = self.pool(F.relu(self.conv1_1(x1)))    # shape: (448, 384)->(446, 382)->(223, 191)\n",
    "\n",
    "        x1 = self.pool(F.relu(self.conv2_1(x1)))    # shape: (223, 191)->(221, 189)->(111, 95)\n",
    "\n",
    "        x1 = F.relu(self.conv3_1(x1))               # shape: (111, 95)->(109, 93)\n",
    "        x1 = self.pool(F.relu(self.conv4_1(x1)))    # shape: (109, 93)->(107, 91)->(54, 46)\n",
    "\n",
    "        x1 = F.relu(self.conv5_1(x1))               # shape: (54, 46)->(52, 44)\n",
    "        x1 = self.pool(F.relu(self.conv6_1(x1)))    # shape: (52, 44)->(50, 42)->(25, 21)\n",
    "\n",
    "        x1 = F.relu(self.conv7_1(x1))               # shape: (25, 21)->(23, 19)\n",
    "        x1 = self.pool(F.relu(self.conv8_1(x1)))    # shape: (23, 19)->(21, 17)->(11, 9)\n",
    "\n",
    "\n",
    "        x2 = self.pool(F.relu(self.conv1_2(x2)))    # shape: (448, 384)->(446, 382)->(223, 191)\n",
    "        \n",
    "        x2 = self.pool(F.relu(self.conv2_2(x2)))    # shape: (223, 191)->(221, 189)->(111, 95)\n",
    "\n",
    "        x2 = F.relu(self.conv3_2(x2))               # shape: (111, 95)->(109, 93)\n",
    "        x2 = self.pool(F.relu(self.conv4_2(x2)))    # shape: (109, 93)->(107, 91)->(54, 46)\n",
    "\n",
    "        x2 = F.relu(self.conv5_2(x2))               # shape: (54, 46)->(52, 44)\n",
    "        x2 = self.pool(F.relu(self.conv6_2(x2)))    # shape: (52, 44)->(50, 42)->(25, 21)\n",
    "\n",
    "        x2 = F.relu(self.conv7_2(x2))               # shape: (25, 21)->(23, 19)\n",
    "        x2 = self.pool(F.relu(self.conv8_2(x2)))    # shape: (23, 19)->(21, 17)->(11, 9)\n",
    "\n",
    "        x_all = torch.cat((x1, x2), 1)\n",
    "\n",
    "        x1reco = self.unpool(F.relu(self.convtrans1_1(x_all)))    # shape: (11, 9)->(24, 20)\n",
    "        x1reco = F.relu(self.convtrans2_1(x1reco))    # shape: (24, 20)->(25, 21)\n",
    "\n",
    "        x1reco = self.unpool(F.relu(self.convtrans3_1(x1reco)))    # shape: (25, 21)->(52, 44)\n",
    "        x1reco = F.relu(self.convtrans4_1(x1reco))    # shape: (52, 44)->(53, 45)\n",
    "\n",
    "        x1reco = self.unpool(F.relu(self.convtrans5_1(x1reco)))    # shape: (53, 45)->(108, 92)\n",
    "        x1reco = F.relu(self.convtrans6_1(x1reco))    # shape: (108, 92)->(109, 93)\n",
    "\n",
    "        x1reco = self.unpool(F.relu(self.convtrans7_1(x1reco)))    # shape: (109, 93)->(220, 188)\n",
    "        x1reco = self.unpool(F.relu(self.convtrans8_1(x1reco)))    # shape: (220, 188)->(442, 378)\n",
    "\n",
    "\n",
    "        x2reco = self.unpool(F.relu(self.convtrans1_2(x_all)))    # shape: (11, 9)->(24, 20)\n",
    "        x2reco = F.relu(self.convtrans2_2(x2reco))    # shape: (24, 20)->(25, 21)\n",
    "\n",
    "        x2reco = self.unpool(F.relu(self.convtrans3_2(x2reco)))    # shape: (25, 21)->(52, 44)\n",
    "        x2reco = F.relu(self.convtrans4_2(x2reco))    # shape: (52, 44)->(53, 45)\n",
    "\n",
    "        x2reco = self.unpool(F.relu(self.convtrans5_2(x2reco)))    # shape: (53, 45)->(108, 92)\n",
    "        x2reco = F.relu(self.convtrans6_2(x2reco))    # shape: (108, 92)->(109, 93)\n",
    "\n",
    "        x2reco = self.unpool(F.relu(self.convtrans7_2(x2reco)))    # shape: (109, 93)->(220, 188)\n",
    "        x2reco = self.unpool(F.relu(self.convtrans8_2(x2reco)))    # shape: (220, 188)->(442, 378)\n",
    "        \n",
    "        x1reco=torch.squeeze(x1reco)\n",
    "        x2reco=torch.squeeze(x2reco)\n",
    "        #print(x1reco.shape, x2reco.shape)\n",
    "        return x1reco+x1_origin, x2reco+x2_origin\n",
    "net=Net().cuda()"
   ]
  },
  {
   "cell_type": "code",
   "execution_count": 5,
   "metadata": {},
   "outputs": [
    {
     "name": "stderr",
     "output_type": "stream",
     "text": [
      "C:\\Users\\swyx2\\AppData\\Local\\Programs\\Python\\Python39\\lib\\site-packages\\torch\\nn\\functional.py:718: UserWarning: Named tensors and all their associated APIs are an experimental feature and subject to change. Please do not use them for anything important until they are released as stable. (Triggered internally at  ..\\c10/core/TensorImpl.h:1156.)\n",
      "  return torch.max_pool2d(input, kernel_size, stride, padding, dilation, ceil_mode)\n"
     ]
    },
    {
     "data": {
      "text/plain": [
       "torch.Size([1, 2, 448, 384])"
      ]
     },
     "execution_count": 5,
     "metadata": {},
     "output_type": "execute_result"
    }
   ],
   "source": [
    "aout, _=net.forward(mydataset.__getitem__(0)[0][None, :, :, :].cuda(), mydataset.__getitem__(0)[1][None, :, :, :].cuda())\n",
    "aout.shape"
   ]
  },
  {
   "cell_type": "code",
   "execution_count": 7,
   "metadata": {},
   "outputs": [],
   "source": [
    "#criterion(aout, mydataset.__getitem__(0)[2][None, :, :].cuda())"
   ]
  },
  {
   "cell_type": "code",
   "execution_count": 6,
   "metadata": {},
   "outputs": [
    {
     "data": {
      "text/plain": [
       "torch.Size([1, 2, 448, 384])"
      ]
     },
     "execution_count": 6,
     "metadata": {},
     "output_type": "execute_result"
    }
   ],
   "source": [
    "aout.shape"
   ]
  },
  {
   "cell_type": "code",
   "execution_count": 7,
   "metadata": {},
   "outputs": [],
   "source": [
    "import torch.optim as optim\n",
    "\n",
    "criterion = nn.CrossEntropyLoss(weight=torch.Tensor([1, 200]).cuda())\n",
    "optimizer = optim.Adam(net.parameters(), lr=1e-2)"
   ]
  },
  {
   "cell_type": "code",
   "execution_count": 8,
   "metadata": {},
   "outputs": [
    {
     "data": {
      "text/plain": [
       "26718288"
      ]
     },
     "execution_count": 8,
     "metadata": {},
     "output_type": "execute_result"
    }
   ],
   "source": [
    "sum(p.numel() for p in net.parameters())"
   ]
  },
  {
   "cell_type": "code",
   "execution_count": 9,
   "metadata": {},
   "outputs": [
    {
     "data": {
      "text/plain": [
       "'NVIDIA GeForce GTX 1660 Ti'"
      ]
     },
     "execution_count": 9,
     "metadata": {},
     "output_type": "execute_result"
    }
   ],
   "source": [
    "torch.cuda.get_device_name(0)"
   ]
  },
  {
   "cell_type": "code",
   "execution_count": 15,
   "metadata": {},
   "outputs": [
    {
     "name": "stdout",
     "output_type": "stream",
     "text": [
      "Epoch: 0, batch: 0 Loss: 0.744705\n",
      "Epoch: 0, batch: 1 Loss: 0.459503\n",
      "Epoch: 0, batch: 2 Loss: 0.459997\n",
      "Epoch: 0, batch: 3 Loss: 0.458179\n",
      "Epoch: 0, batch: 4 Loss: 0.194114\n",
      "Epoch: 0, batch: 5 Loss: 0.856371\n",
      "Epoch: 0, batch: 6 Loss: 0.193540\n",
      "Epoch: 0, batch: 7 Loss: 1.397960\n",
      "Epoch: 0, batch: 8 Loss: 0.193219\n",
      "Epoch: 0, batch: 9 Loss: 0.406471\n",
      "Epoch: 0, batch: 10 Loss: 0.192941\n",
      "Epoch: 0, batch: 11 Loss: 0.192420\n",
      "Epoch: 0, batch: 12 Loss: 0.192286\n",
      "Epoch: 0, batch: 13 Loss: 0.191459\n",
      "Epoch: 0, batch: 14 Loss: 0.190925\n",
      "Epoch: 0, batch: 15 Loss: 0.190265\n",
      "Epoch: 0, batch: 16 Loss: 0.189437\n",
      "Epoch: 0, batch: 17 Loss: 1.114248\n",
      "Epoch: 0, batch: 18 Loss: 0.188158\n",
      "Epoch: 0, batch: 19 Loss: 0.716238\n",
      "Epoch: 0, batch: 20 Loss: 0.476771\n",
      "Epoch: 0, batch: 21 Loss: 0.448384\n",
      "Epoch: 0, batch: 22 Loss: 0.185702\n",
      "Epoch: 0, batch: 23 Loss: 0.390647\n",
      "Epoch: 0, batch: 24 Loss: 0.184443\n",
      "Epoch: 0, batch: 25 Loss: 0.183722\n",
      "Epoch: 0, batch: 26 Loss: 0.467227\n",
      "Epoch: 0, batch: 27 Loss: 0.877220\n",
      "Epoch: 0, batch: 28 Loss: 0.943082\n",
      "Epoch: 0, batch: 29 Loss: 0.735362\n",
      "Epoch: 0, batch: 30 Loss: 0.738616\n",
      "Epoch: 0, batch: 31 Loss: 0.180994\n",
      "Epoch: 0, batch: 32 Loss: 0.453022\n",
      "Epoch: 0, batch: 33 Loss: 0.674231\n",
      "Epoch: 0, batch: 34 Loss: 1.109339\n",
      "Epoch: 0, batch: 35 Loss: 0.179870\n",
      "Epoch: 0, batch: 36 Loss: 0.717716\n",
      "Epoch: 0, batch: 37 Loss: 0.922337\n",
      "Epoch: 0, batch: 38 Loss: 1.915016\n",
      "Epoch: 0, batch: 39 Loss: 0.180013\n",
      "Epoch: 0, batch: 40 Loss: 1.147750\n",
      "Epoch: 0, batch: 41 Loss: 0.180753\n",
      "Epoch: 0, batch: 42 Loss: 0.180765\n",
      "Epoch: 0, batch: 43 Loss: 0.180982\n",
      "Epoch: 0, batch: 44 Loss: 0.699392\n",
      "Epoch: 0, batch: 45 Loss: 0.717481\n",
      "Epoch: 0, batch: 46 Loss: 0.180857\n",
      "Epoch: 0, batch: 47 Loss: 1.322124\n",
      "Epoch: 0, batch: 48 Loss: 0.729201\n",
      "Epoch: 0, batch: 49 Loss: 0.181150\n",
      "Epoch: 0, batch: 50 Loss: 0.181264\n",
      "Epoch: 0, batch: 51 Loss: 0.442550\n",
      "Epoch: 0, batch: 52 Loss: 0.706529\n",
      "Epoch: 0, batch: 53 Loss: 0.470323\n",
      "Epoch: 0, batch: 54 Loss: 0.677801\n",
      "Epoch: 0, batch: 55 Loss: 1.028053\n",
      "Epoch: 0, batch: 56 Loss: 0.837543\n",
      "Epoch: 0, batch: 57 Loss: 0.180863\n",
      "Epoch: 0, batch: 58 Loss: 0.180981\n",
      "Epoch: 0, batch: 59 Loss: 0.180559\n",
      "Epoch: 0, batch: 60 Loss: 0.180480\n",
      "Epoch: 0, batch: 61 Loss: 0.899327\n"
     ]
    },
    {
     "ename": "KeyboardInterrupt",
     "evalue": "",
     "output_type": "error",
     "traceback": [
      "\u001b[1;31m---------------------------------------------------------------------------\u001b[0m",
      "\u001b[1;31mKeyboardInterrupt\u001b[0m                         Traceback (most recent call last)",
      "\u001b[1;32m<ipython-input-15-1ba6c70a4389>\u001b[0m in \u001b[0;36m<module>\u001b[1;34m\u001b[0m\n\u001b[0;32m     38\u001b[0m         \u001b[1;32mif\u001b[0m \u001b[0mbatch_idx\u001b[0m \u001b[1;33m%\u001b[0m \u001b[1;36m50\u001b[0m \u001b[1;33m==\u001b[0m \u001b[1;36m0\u001b[0m \u001b[1;32mor\u001b[0m \u001b[1;32mTrue\u001b[0m\u001b[1;33m:\u001b[0m\u001b[1;33m\u001b[0m\u001b[1;33m\u001b[0m\u001b[0m\n\u001b[0;32m     39\u001b[0m             \u001b[1;31m#print(\"Epoch: {}, batch: {} Loss: {} label_loss:{}\".format(i, batch_idx, loss, label_loss_))\u001b[0m\u001b[1;33m\u001b[0m\u001b[1;33m\u001b[0m\u001b[1;33m\u001b[0m\u001b[0m\n\u001b[1;32m---> 40\u001b[1;33m             \u001b[0mprint\u001b[0m\u001b[1;33m(\u001b[0m\u001b[1;34m\"Epoch: {}, batch: {} Loss: {:0.6f}\"\u001b[0m\u001b[1;33m.\u001b[0m\u001b[0mformat\u001b[0m\u001b[1;33m(\u001b[0m\u001b[0mi\u001b[0m\u001b[1;33m,\u001b[0m \u001b[0mbatch_idx\u001b[0m\u001b[1;33m,\u001b[0m \u001b[0mloss\u001b[0m\u001b[1;33m)\u001b[0m\u001b[1;33m)\u001b[0m\u001b[1;33m\u001b[0m\u001b[1;33m\u001b[0m\u001b[0m\n\u001b[0m\u001b[0;32m     41\u001b[0m \u001b[1;33m\u001b[0m\u001b[0m\n\u001b[0;32m     42\u001b[0m     \u001b[0mnet\u001b[0m\u001b[1;33m.\u001b[0m\u001b[0meval\u001b[0m\u001b[1;33m(\u001b[0m\u001b[1;33m)\u001b[0m \u001b[1;31m# begin testing\u001b[0m\u001b[1;33m\u001b[0m\u001b[1;33m\u001b[0m\u001b[0m\n",
      "\u001b[1;32m~\\AppData\\Local\\Programs\\Python\\Python39\\lib\\site-packages\\torch\\_tensor.py\u001b[0m in \u001b[0;36m__format__\u001b[1;34m(self, format_spec)\u001b[0m\n\u001b[0;32m    558\u001b[0m             \u001b[1;32mreturn\u001b[0m \u001b[0mhandle_torch_function\u001b[0m\u001b[1;33m(\u001b[0m\u001b[0mTensor\u001b[0m\u001b[1;33m.\u001b[0m\u001b[0m__format__\u001b[0m\u001b[1;33m,\u001b[0m \u001b[1;33m(\u001b[0m\u001b[0mself\u001b[0m\u001b[1;33m,\u001b[0m\u001b[1;33m)\u001b[0m\u001b[1;33m,\u001b[0m \u001b[0mself\u001b[0m\u001b[1;33m,\u001b[0m \u001b[0mformat_spec\u001b[0m\u001b[1;33m)\u001b[0m\u001b[1;33m\u001b[0m\u001b[1;33m\u001b[0m\u001b[0m\n\u001b[0;32m    559\u001b[0m         \u001b[1;32mif\u001b[0m \u001b[0mself\u001b[0m\u001b[1;33m.\u001b[0m\u001b[0mdim\u001b[0m\u001b[1;33m(\u001b[0m\u001b[1;33m)\u001b[0m \u001b[1;33m==\u001b[0m \u001b[1;36m0\u001b[0m\u001b[1;33m:\u001b[0m\u001b[1;33m\u001b[0m\u001b[1;33m\u001b[0m\u001b[0m\n\u001b[1;32m--> 560\u001b[1;33m             \u001b[1;32mreturn\u001b[0m \u001b[0mself\u001b[0m\u001b[1;33m.\u001b[0m\u001b[0mitem\u001b[0m\u001b[1;33m(\u001b[0m\u001b[1;33m)\u001b[0m\u001b[1;33m.\u001b[0m\u001b[0m__format__\u001b[0m\u001b[1;33m(\u001b[0m\u001b[0mformat_spec\u001b[0m\u001b[1;33m)\u001b[0m\u001b[1;33m\u001b[0m\u001b[1;33m\u001b[0m\u001b[0m\n\u001b[0m\u001b[0;32m    561\u001b[0m         \u001b[1;32mreturn\u001b[0m \u001b[0mobject\u001b[0m\u001b[1;33m.\u001b[0m\u001b[0m__format__\u001b[0m\u001b[1;33m(\u001b[0m\u001b[0mself\u001b[0m\u001b[1;33m,\u001b[0m \u001b[0mformat_spec\u001b[0m\u001b[1;33m)\u001b[0m\u001b[1;33m\u001b[0m\u001b[1;33m\u001b[0m\u001b[0m\n\u001b[0;32m    562\u001b[0m \u001b[1;33m\u001b[0m\u001b[0m\n",
      "\u001b[1;31mKeyboardInterrupt\u001b[0m: "
     ]
    }
   ],
   "source": [
    "# Training\n",
    "loss_list = []\n",
    "alpha=0.2\n",
    "epochs = 100\n",
    "\n",
    "\n",
    "accuracy_list = []\n",
    "\n",
    "for i in range(epochs):\n",
    "    net.train()\n",
    "    for (batch_idx, batch) in enumerate(trainloader):\n",
    "        XZ_train_batch = batch[0].cuda() # remove .cuda() if you don't have a GPU\n",
    "        YZ_train_batch = batch[1].cuda() # remove .cuda() if you don't have a GPU\n",
    "        labelmap_xz_train_batch = batch[2].cuda() # remove .cuda() if you don't have a GPU\n",
    "        labelmap_yz_train_batch = batch[3].cuda() # remove .cuda() if you don't have a GPU\n",
    "\n",
    "        Netoutxz, Netoutyz = net.forward(XZ_train_batch, YZ_train_batch) # This will call the forward function, usually it returns tensors.\n",
    "        #print(F.softmax(Netout))\n",
    "        #print(Netoutxz.shape, Netoutyz.shape)\n",
    "        #print(labelmap_xz_train_batch.shape, labelmap_yz_train_batch.shape)\n",
    "\n",
    "        loss = criterion(Netoutxz, labelmap_xz_train_batch)+criterion(Netoutyz, labelmap_yz_train_batch) # classification loss\n",
    "        \n",
    "        # Zero the gradients before running the backward pass.\n",
    "        optimizer.zero_grad() \n",
    "        \n",
    "        # Backward pass: compute gradient of the loss with respect to all the learnable\n",
    "        # parameters of the model. Internally, the parameters of each Module are stored\n",
    "        # in Tensors with requires_grad=True, so this call will compute gradients for\n",
    "        # all learnable parameters in the model.\n",
    "        loss.backward()\n",
    "        \n",
    "        # Calling the step function on an Optimizer makes an update to its\n",
    "        # parameters\n",
    "        optimizer.step()\n",
    "\n",
    "        loss_list.append(loss)\n",
    "        if batch_idx % 50 == 0 or True:\n",
    "            #print(\"Epoch: {}, batch: {} Loss: {} label_loss:{}\".format(i, batch_idx, loss, label_loss_))\n",
    "            print(\"Epoch: {}, batch: {} Loss: {:0.6f}\".format(i, batch_idx, loss))\n",
    "    \n",
    "    net.eval() # begin testing\n",
    "    preds = np.array([])\n",
    "    reals = np.array([])\n",
    "\n",
    "    with torch.no_grad():\n",
    "        for (batch_idx, batch) in enumerate(testloader):\n",
    "            XZ_test_batch = batch[0].cuda() # remove .cuda() if you don't have a GPU\n",
    "            YZ_test_batch = batch[1].cuda() # remove .cuda() if you don't have a GPU\n",
    "            labelmap_xz_test_batch = batch[2].cuda() # remove .cuda() if you don't have a GPU\n",
    "            labelmap_yz_test_batch = batch[3].cuda() # remove .cuda() if you don't have a GPU\n",
    "\n",
    "\n",
    "            Netoutxz_, Netoutyz_ = net.forward(XZ_test_batch, YZ_test_batch) # This will call the forward function, usually it returns tensors.\n",
    "\n",
    "\n",
    "            predictionxz=F.softmax(Netoutxz, dim=1).cpu().numpy()\n",
    "            predictionyz=F.softmax(Netoutyz, dim=1).cpu().numpy()\n",
    "            \n",
    "            preds=np.concatenate((preds, np.sum(predictionxz, axis=(1,2,3) )))\n",
    "            reals=np.concatenate((reals, np.sum(predictionyz, axis=(1,2,3) )))\n",
    "        preds=np.array(preds)\n",
    "        reals=np.array(reals)\n",
    "        accuracy=np.sum((preds-reals)**2)\n",
    "        accuracy_list.append(accuracy)\n",
    "        print(\"Squared Error: {}\".format(accuracy))\n"
   ]
  },
  {
   "cell_type": "code",
   "execution_count": 20,
   "metadata": {},
   "outputs": [
    {
     "data": {
      "image/png": "[encoded data removed]",
      "text/plain": [
       "<Figure size 432x288 with 1 Axes>"
      ]
     },
     "metadata": {
      "needs_background": "light"
     },
     "output_type": "display_data"
    }
   ],
   "source": [
    "loss_listnp=[i.cpu().detach().numpy() for i in loss_list]\n",
    "plt.plot(loss_listnp)\n",
    "plt.ylim(0, 5)\n",
    "plt.show()"
   ]
  },
  {
   "cell_type": "code",
   "execution_count": 28,
   "metadata": {},
   "outputs": [
    {
     "ename": "KeyboardInterrupt",
     "evalue": "",
     "output_type": "error",
     "traceback": [
      "\u001b[1;31m---------------------------------------------------------------------------\u001b[0m",
      "\u001b[1;31mKeyboardInterrupt\u001b[0m                         Traceback (most recent call last)",
      "\u001b[1;32m<ipython-input-28-338f5d0640b6>\u001b[0m in \u001b[0;36m<module>\u001b[1;34m\u001b[0m\n\u001b[0;32m     11\u001b[0m \u001b[1;33m\u001b[0m\u001b[0m\n\u001b[0;32m     12\u001b[0m \u001b[1;33m\u001b[0m\u001b[0m\n\u001b[1;32m---> 13\u001b[1;33m         \u001b[0mNetoutxz_\u001b[0m\u001b[1;33m,\u001b[0m \u001b[0mNetoutyz_\u001b[0m \u001b[1;33m=\u001b[0m \u001b[0mnet\u001b[0m\u001b[1;33m.\u001b[0m\u001b[0mforward\u001b[0m\u001b[1;33m(\u001b[0m\u001b[0mXZ_test_batch\u001b[0m\u001b[1;33m,\u001b[0m \u001b[0mYZ_test_batch\u001b[0m\u001b[1;33m)\u001b[0m \u001b[1;31m# This will call the forward function, usually it returns tensors.\u001b[0m\u001b[1;33m\u001b[0m\u001b[1;33m\u001b[0m\u001b[0m\n\u001b[0m\u001b[0;32m     14\u001b[0m \u001b[1;33m\u001b[0m\u001b[0m\n\u001b[0;32m     15\u001b[0m         \u001b[0mloss\u001b[0m \u001b[1;33m=\u001b[0m \u001b[0mcriterion\u001b[0m\u001b[1;33m(\u001b[0m\u001b[0mNetoutxz_\u001b[0m\u001b[1;33m,\u001b[0m \u001b[0mlabelmap_xz_test_batch\u001b[0m\u001b[1;33m)\u001b[0m\u001b[1;33m+\u001b[0m\u001b[0mcriterion\u001b[0m\u001b[1;33m(\u001b[0m\u001b[0mNetoutyz_\u001b[0m\u001b[1;33m,\u001b[0m \u001b[0mlabelmap_yz_test_batch\u001b[0m\u001b[1;33m)\u001b[0m \u001b[1;31m# classification loss\u001b[0m\u001b[1;33m\u001b[0m\u001b[1;33m\u001b[0m\u001b[0m\n",
      "\u001b[1;32m<ipython-input-4-62b25071cf98>\u001b[0m in \u001b[0;36mforward\u001b[1;34m(self, x1, x2)\u001b[0m\n\u001b[0;32m     79\u001b[0m         \u001b[0mx2\u001b[0m \u001b[1;33m=\u001b[0m \u001b[0mself\u001b[0m\u001b[1;33m.\u001b[0m\u001b[0mpool\u001b[0m\u001b[1;33m(\u001b[0m\u001b[0mF\u001b[0m\u001b[1;33m.\u001b[0m\u001b[0mrelu\u001b[0m\u001b[1;33m(\u001b[0m\u001b[0mself\u001b[0m\u001b[1;33m.\u001b[0m\u001b[0mconv1_2\u001b[0m\u001b[1;33m(\u001b[0m\u001b[0mx2\u001b[0m\u001b[1;33m)\u001b[0m\u001b[1;33m)\u001b[0m\u001b[1;33m)\u001b[0m    \u001b[1;31m# shape: (448, 384)->(446, 382)->(223, 191)\u001b[0m\u001b[1;33m\u001b[0m\u001b[1;33m\u001b[0m\u001b[0m\n\u001b[0;32m     80\u001b[0m \u001b[1;33m\u001b[0m\u001b[0m\n\u001b[1;32m---> 81\u001b[1;33m         \u001b[0mx2\u001b[0m \u001b[1;33m=\u001b[0m \u001b[0mself\u001b[0m\u001b[1;33m.\u001b[0m\u001b[0mpool\u001b[0m\u001b[1;33m(\u001b[0m\u001b[0mF\u001b[0m\u001b[1;33m.\u001b[0m\u001b[0mrelu\u001b[0m\u001b[1;33m(\u001b[0m\u001b[0mself\u001b[0m\u001b[1;33m.\u001b[0m\u001b[0mconv2_2\u001b[0m\u001b[1;33m(\u001b[0m\u001b[0mx2\u001b[0m\u001b[1;33m)\u001b[0m\u001b[1;33m)\u001b[0m\u001b[1;33m)\u001b[0m    \u001b[1;31m# shape: (223, 191)->(221, 189)->(111, 95)\u001b[0m\u001b[1;33m\u001b[0m\u001b[1;33m\u001b[0m\u001b[0m\n\u001b[0m\u001b[0;32m     82\u001b[0m \u001b[1;33m\u001b[0m\u001b[0m\n\u001b[0;32m     83\u001b[0m         \u001b[0mx2\u001b[0m \u001b[1;33m=\u001b[0m \u001b[0mF\u001b[0m\u001b[1;33m.\u001b[0m\u001b[0mrelu\u001b[0m\u001b[1;33m(\u001b[0m\u001b[0mself\u001b[0m\u001b[1;33m.\u001b[0m\u001b[0mconv3_2\u001b[0m\u001b[1;33m(\u001b[0m\u001b[0mx2\u001b[0m\u001b[1;33m)\u001b[0m\u001b[1;33m)\u001b[0m               \u001b[1;31m# shape: (111, 95)->(109, 93)\u001b[0m\u001b[1;33m\u001b[0m\u001b[1;33m\u001b[0m\u001b[0m\n",
      "\u001b[1;32m~\\AppData\\Local\\Programs\\Python\\Python39\\lib\\site-packages\\torch\\nn\\modules\\module.py\u001b[0m in \u001b[0;36m_call_impl\u001b[1;34m(self, *input, **kwargs)\u001b[0m\n\u001b[0;32m   1049\u001b[0m         if not (self._backward_hooks or self._forward_hooks or self._forward_pre_hooks or _global_backward_hooks\n\u001b[0;32m   1050\u001b[0m                 or _global_forward_hooks or _global_forward_pre_hooks):\n\u001b[1;32m-> 1051\u001b[1;33m             \u001b[1;32mreturn\u001b[0m \u001b[0mforward_call\u001b[0m\u001b[1;33m(\u001b[0m\u001b[1;33m*\u001b[0m\u001b[0minput\u001b[0m\u001b[1;33m,\u001b[0m \u001b[1;33m**\u001b[0m\u001b[0mkwargs\u001b[0m\u001b[1;33m)\u001b[0m\u001b[1;33m\u001b[0m\u001b[1;33m\u001b[0m\u001b[0m\n\u001b[0m\u001b[0;32m   1052\u001b[0m         \u001b[1;31m# Do not call functions when jit is used\u001b[0m\u001b[1;33m\u001b[0m\u001b[1;33m\u001b[0m\u001b[1;33m\u001b[0m\u001b[0m\n\u001b[0;32m   1053\u001b[0m         \u001b[0mfull_backward_hooks\u001b[0m\u001b[1;33m,\u001b[0m \u001b[0mnon_full_backward_hooks\u001b[0m \u001b[1;33m=\u001b[0m \u001b[1;33m[\u001b[0m\u001b[1;33m]\u001b[0m\u001b[1;33m,\u001b[0m \u001b[1;33m[\u001b[0m\u001b[1;33m]\u001b[0m\u001b[1;33m\u001b[0m\u001b[1;33m\u001b[0m\u001b[0m\n",
      "\u001b[1;32m~\\AppData\\Local\\Programs\\Python\\Python39\\lib\\site-packages\\torch\\nn\\modules\\conv.py\u001b[0m in \u001b[0;36mforward\u001b[1;34m(self, input)\u001b[0m\n\u001b[0;32m    441\u001b[0m \u001b[1;33m\u001b[0m\u001b[0m\n\u001b[0;32m    442\u001b[0m     \u001b[1;32mdef\u001b[0m \u001b[0mforward\u001b[0m\u001b[1;33m(\u001b[0m\u001b[0mself\u001b[0m\u001b[1;33m,\u001b[0m \u001b[0minput\u001b[0m\u001b[1;33m:\u001b[0m \u001b[0mTensor\u001b[0m\u001b[1;33m)\u001b[0m \u001b[1;33m->\u001b[0m \u001b[0mTensor\u001b[0m\u001b[1;33m:\u001b[0m\u001b[1;33m\u001b[0m\u001b[1;33m\u001b[0m\u001b[0m\n\u001b[1;32m--> 443\u001b[1;33m         \u001b[1;32mreturn\u001b[0m \u001b[0mself\u001b[0m\u001b[1;33m.\u001b[0m\u001b[0m_conv_forward\u001b[0m\u001b[1;33m(\u001b[0m\u001b[0minput\u001b[0m\u001b[1;33m,\u001b[0m \u001b[0mself\u001b[0m\u001b[1;33m.\u001b[0m\u001b[0mweight\u001b[0m\u001b[1;33m,\u001b[0m \u001b[0mself\u001b[0m\u001b[1;33m.\u001b[0m\u001b[0mbias\u001b[0m\u001b[1;33m)\u001b[0m\u001b[1;33m\u001b[0m\u001b[1;33m\u001b[0m\u001b[0m\n\u001b[0m\u001b[0;32m    444\u001b[0m \u001b[1;33m\u001b[0m\u001b[0m\n\u001b[0;32m    445\u001b[0m \u001b[1;32mclass\u001b[0m \u001b[0mConv3d\u001b[0m\u001b[1;33m(\u001b[0m\u001b[0m_ConvNd\u001b[0m\u001b[1;33m)\u001b[0m\u001b[1;33m:\u001b[0m\u001b[1;33m\u001b[0m\u001b[1;33m\u001b[0m\u001b[0m\n",
      "\u001b[1;32m~\\AppData\\Local\\Programs\\Python\\Python39\\lib\\site-packages\\torch\\nn\\modules\\conv.py\u001b[0m in \u001b[0;36m_conv_forward\u001b[1;34m(self, input, weight, bias)\u001b[0m\n\u001b[0;32m    437\u001b[0m                             \u001b[0mweight\u001b[0m\u001b[1;33m,\u001b[0m \u001b[0mbias\u001b[0m\u001b[1;33m,\u001b[0m \u001b[0mself\u001b[0m\u001b[1;33m.\u001b[0m\u001b[0mstride\u001b[0m\u001b[1;33m,\u001b[0m\u001b[1;33m\u001b[0m\u001b[1;33m\u001b[0m\u001b[0m\n\u001b[0;32m    438\u001b[0m                             _pair(0), self.dilation, self.groups)\n\u001b[1;32m--> 439\u001b[1;33m         return F.conv2d(input, weight, bias, self.stride,\n\u001b[0m\u001b[0;32m    440\u001b[0m                         self.padding, self.dilation, self.groups)\n\u001b[0;32m    441\u001b[0m \u001b[1;33m\u001b[0m\u001b[0m\n",
      "\u001b[1;31mKeyboardInterrupt\u001b[0m: "
     ]
    }
   ],
   "source": [
    "net.eval() # begin testing\n",
    "preds = np.array([])\n",
    "reals = np.array([])\n",
    "\n",
    "with torch.no_grad():\n",
    "    for (batch_idx, batch) in enumerate(testloader):\n",
    "        XZ_test_batch = batch[0].cuda() # remove .cuda() if you don't have a GPU\n",
    "        YZ_test_batch = batch[1].cuda() # remove .cuda() if you don't have a GPU\n",
    "        labelmap_xz_test_batch = batch[2].cuda() # remove .cuda() if you don't have a GPU\n",
    "        labelmap_yz_test_batch = batch[3].cuda() # remove .cuda() if you don't have a GPU\n",
    "\n",
    "\n",
    "        Netoutxz_, Netoutyz_ = net.forward(XZ_test_batch, YZ_test_batch) # This will call the forward function, usually it returns tensors.\n",
    "\n",
    "        loss = criterion(Netoutxz_, labelmap_xz_test_batch)+criterion(Netoutyz_, labelmap_yz_test_batch) # classification loss\n",
    "\n",
    "        predictionxz=F.softmax(Netoutxz, dim=1).cpu().numpy()\n",
    "        realxz=labelmap_xz_test_batch.cpu().numpy()\n",
    "        \n",
    "        preds=np.concatenate((preds, np.sum(predictionxz, axis=(1,2,3) )))\n",
    "        reals=np.concatenate((reals, np.sum(realxz, axis=(1,2) )))\n",
    "    preds=np.array(preds)\n",
    "    reals=np.array(reals)\n",
    "    accuracy=np.sum((preds-reals)**2)\n",
    "    accuracy_list.append(accuracy)\n",
    "    print(\"Squared Error: {}\".format(accuracy))"
   ]
  },
  {
   "cell_type": "code",
   "execution_count": 21,
   "metadata": {},
   "outputs": [
    {
     "data": {
      "text/plain": [
       "482"
      ]
     },
     "execution_count": 21,
     "metadata": {},
     "output_type": "execute_result"
    }
   ],
   "source": [
    "b=predictionyz[0, 1, :, :]\n",
    "np.count_nonzero(b>0.1)"
   ]
  },
  {
   "cell_type": "code",
   "execution_count": 29,
   "metadata": {},
   "outputs": [
    {
     "data": {
      "text/plain": [
       "array([   0.,  903.,    0.,    0.,  441.,  441.,    0.,  441.,    0.,\n",
       "        441.,  462.,    0.,  441.,    0.,    0.,    0.,    0.,  441.,\n",
       "          0.,    0.,    0.,    0.,  903.,  966.,    0.,    0.,    0.,\n",
       "        441.,  441.,  441.,    0.,    0.,    0., 1323.,    0.,    0.,\n",
       "        672.,    0.,    0.,    0.,    0.,    0.,    0.,    0.,    0.,\n",
       "          0.,    0.,    0.,    0.,    0.,    0.,    0.,    0.,    0.,\n",
       "          0.,    0.,    0.,  483.,    0.,  441.,    0.,    0.,    0.,\n",
       "          0.,  441.,    0.,    0.,    0.,    0.,    0.,    0.,    0.,\n",
       "          0.,    0.,    0.,    0.,    0.,  462.,    0.,    0.,    0.,\n",
       "        483.,  441.,    0.,    0.,    0.,    0.,    0.,    0.,    0.,\n",
       "          0.,    0., 1513.,    0.,    0.,    0.,    0.,    0.,    0.,\n",
       "          0., 2226.,    0.,    0.,    0.,    0.,  231.,    0.,    0.,\n",
       "          0.,    0.,    0.,    0.,    0.,    0.,    0.,    0.,    0.,\n",
       "          0.,    0.,    0.,    0.,  441.,    0.,    0.,    0.,  441.,\n",
       "          0.,  441.,    0.,    0.,  882.,    0.,    0.,    0.,    0.,\n",
       "          0.,    0.,    0.,  441.,    0.,    0.,    0.,    0.,    0.,\n",
       "          0.,    0.,    0.,    0.,    0.,    0.,    0.,    0.,    0.,\n",
       "          0.,    0.,    0.,    0.,    0.,    0.,    0.,    0.,    0.,\n",
       "          0.,    0.,    0., 1950.,    0.,    0.,    0.,    0.,    0.,\n",
       "          0.,  441.,    0.,  441.,    0.,    0.,    0.,    0.,    0.])"
      ]
     },
     "execution_count": 29,
     "metadata": {},
     "output_type": "execute_result"
    }
   ],
   "source": []
  },
  {
   "cell_type": "code",
   "execution_count": 30,
   "metadata": {},
   "outputs": [
    {
     "data": {
      "text/plain": [
       "array([172031.953125, 172031.9375  , 172031.984375, 172031.9375  ,\n",
       "       172031.953125, 172031.9375  , 172031.984375, 172031.9375  ,\n",
       "       172031.953125, 172031.9375  , 172031.984375, 172031.9375  ,\n",
       "       172031.953125, 172031.9375  , 172031.984375, 172031.9375  ,\n",
       "       172031.953125, 172031.9375  , 172031.984375, 172031.9375  ,\n",
       "       172031.953125, 172031.9375  , 172031.984375, 172031.9375  ,\n",
       "       172031.953125, 172031.9375  , 172031.984375, 172031.9375  ,\n",
       "       172031.953125, 172031.9375  , 172031.984375, 172031.9375  ,\n",
       "       172031.953125, 172031.9375  , 172031.984375, 172031.9375  ,\n",
       "       172031.953125, 172031.9375  , 172031.984375, 172031.9375  ,\n",
       "       172031.953125, 172031.9375  , 172031.984375, 172031.9375  ,\n",
       "       172031.953125, 172031.9375  , 172031.984375, 172031.9375  ,\n",
       "       172031.953125, 172031.9375  , 172031.984375, 172031.9375  ,\n",
       "       172031.953125, 172031.9375  , 172031.984375, 172031.9375  ,\n",
       "       172031.953125, 172031.9375  , 172031.984375, 172031.9375  ,\n",
       "       172031.953125, 172031.9375  , 172031.984375, 172031.9375  ,\n",
       "       172031.953125, 172031.9375  , 172031.984375, 172031.9375  ,\n",
       "       172031.953125, 172031.9375  , 172031.984375, 172031.9375  ,\n",
       "       172031.953125, 172031.9375  , 172031.984375, 172031.9375  ,\n",
       "       172031.953125, 172031.9375  , 172031.984375, 172031.9375  ,\n",
       "       172031.953125, 172031.9375  , 172031.984375, 172031.9375  ,\n",
       "       172031.953125, 172031.9375  , 172031.984375, 172031.9375  ,\n",
       "       172031.953125, 172031.9375  , 172031.984375, 172031.9375  ,\n",
       "       172031.953125, 172031.9375  , 172031.984375, 172031.9375  ,\n",
       "       172031.953125, 172031.9375  , 172031.984375, 172031.9375  ,\n",
       "       172031.953125, 172031.9375  , 172031.984375, 172031.9375  ,\n",
       "       172031.953125, 172031.9375  , 172031.984375, 172031.9375  ,\n",
       "       172031.953125, 172031.9375  , 172031.984375, 172031.9375  ,\n",
       "       172031.953125, 172031.9375  , 172031.984375, 172031.9375  ,\n",
       "       172031.953125, 172031.9375  , 172031.984375, 172031.9375  ,\n",
       "       172031.953125, 172031.9375  , 172031.984375, 172031.9375  ,\n",
       "       172031.953125, 172031.9375  , 172031.984375, 172031.9375  ,\n",
       "       172031.953125, 172031.9375  , 172031.984375, 172031.9375  ,\n",
       "       172031.953125, 172031.9375  , 172031.984375, 172031.9375  ,\n",
       "       172031.953125, 172031.9375  , 172031.984375, 172031.9375  ,\n",
       "       172031.953125, 172031.9375  , 172031.984375, 172031.9375  ,\n",
       "       172031.953125, 172031.9375  , 172031.984375, 172031.9375  ,\n",
       "       172031.953125, 172031.9375  , 172031.984375, 172031.9375  ,\n",
       "       172031.953125, 172031.9375  , 172031.984375, 172031.9375  ,\n",
       "       172031.953125, 172031.9375  , 172031.984375, 172031.9375  ,\n",
       "       172031.953125, 172031.9375  , 172031.984375, 172031.9375  ,\n",
       "       172031.953125, 172031.9375  , 172031.984375, 172031.9375  ,\n",
       "       172031.953125, 172031.9375  , 172031.984375, 172031.9375  ,\n",
       "       172031.953125, 172031.9375  , 172031.984375, 172031.9375  ,\n",
       "       172031.953125, 172031.9375  , 172031.984375, 172031.9375  ,\n",
       "       172031.953125, 172031.9375  , 172031.984375, 172031.9375  ,\n",
       "       172031.953125, 172031.9375  , 172031.984375, 172031.9375  ,\n",
       "       172031.953125, 172031.9375  , 172031.984375, 172031.9375  ,\n",
       "       172031.953125, 172031.9375  , 172031.984375, 172031.9375  ,\n",
       "       172031.953125, 172031.9375  , 172031.984375, 172031.9375  ,\n",
       "       172031.953125, 172031.9375  , 172031.984375, 172031.9375  ,\n",
       "       172031.953125, 172031.9375  , 172031.984375, 172031.9375  ,\n",
       "       172031.953125, 172031.9375  , 172031.984375, 172031.9375  ,\n",
       "       172031.953125, 172031.9375  , 172031.984375, 172031.9375  ,\n",
       "       172031.953125, 172031.9375  , 172031.984375, 172031.9375  ,\n",
       "       172031.953125, 172031.9375  , 172031.984375, 172031.9375  ,\n",
       "       172031.953125, 172031.9375  , 172031.984375, 172031.9375  ,\n",
       "       172031.953125, 172031.9375  , 172031.984375, 172031.9375  ,\n",
       "       172031.953125, 172031.9375  , 172031.984375, 172031.9375  ,\n",
       "       172031.953125, 172031.9375  , 172031.984375, 172031.9375  ,\n",
       "       172031.953125, 172031.9375  , 172031.984375, 172031.9375  ,\n",
       "       172031.953125, 172031.9375  , 172031.984375, 172031.9375  ,\n",
       "       172031.953125, 172031.9375  , 172031.984375, 172031.9375  ,\n",
       "       172031.953125, 172031.9375  , 172031.984375, 172031.9375  ,\n",
       "       172031.953125, 172031.9375  , 172031.984375, 172031.9375  ,\n",
       "       172031.953125, 172031.9375  , 172031.984375, 172031.9375  ,\n",
       "       172031.953125, 172031.9375  , 172031.984375, 172031.9375  ,\n",
       "       172031.953125, 172031.9375  , 172031.984375, 172031.9375  ,\n",
       "       172031.953125, 172031.9375  , 172031.984375, 172031.9375  ,\n",
       "       172031.953125, 172031.9375  , 172031.984375, 172031.9375  ,\n",
       "       172031.953125, 172031.9375  , 172031.984375, 172031.9375  ,\n",
       "       172031.953125, 172031.9375  , 172031.984375, 172031.9375  ,\n",
       "       172031.953125, 172031.9375  , 172031.984375, 172031.9375  ,\n",
       "       172031.953125, 172031.9375  , 172031.984375, 172031.9375  ,\n",
       "       172031.953125, 172031.9375  , 172031.984375, 172031.9375  ,\n",
       "       172031.953125, 172031.9375  , 172031.984375, 172031.9375  ,\n",
       "       172031.953125, 172031.9375  , 172031.984375, 172031.9375  ,\n",
       "       172031.953125, 172031.9375  , 172031.984375, 172031.9375  ,\n",
       "       172031.953125, 172031.9375  , 172031.984375, 172031.9375  ,\n",
       "       172031.953125, 172031.9375  , 172031.984375, 172031.9375  ,\n",
       "       172031.953125, 172031.9375  , 172031.984375, 172031.9375  ,\n",
       "       172031.953125, 172031.9375  , 172031.984375, 172031.9375  ,\n",
       "       172031.953125, 172031.9375  , 172031.984375, 172031.9375  ,\n",
       "       172031.953125, 172031.9375  , 172031.984375, 172031.9375  ,\n",
       "       172031.953125, 172031.9375  , 172031.984375, 172031.9375  ,\n",
       "       172031.953125, 172031.9375  , 172031.984375, 172031.9375  ,\n",
       "       172031.953125, 172031.9375  , 172031.984375, 172031.9375  ,\n",
       "       172031.953125, 172031.9375  , 172031.984375, 172031.9375  ,\n",
       "       172031.953125, 172031.9375  , 172031.984375, 172031.9375  ,\n",
       "       172031.953125, 172031.9375  , 172031.984375, 172031.9375  ])"
      ]
     },
     "execution_count": 30,
     "metadata": {},
     "output_type": "execute_result"
    }
   ],
   "source": []
  },
  {
   "cell_type": "code",
   "execution_count": 18,
   "metadata": {},
   "outputs": [
    {
     "data": {
      "text/plain": [
       "torch.Size([4, 448, 384])"
      ]
     },
     "execution_count": 18,
     "metadata": {},
     "output_type": "execute_result"
    }
   ],
   "source": [
    "labelmap_xz_train_batch[:,:,:].to(torch.float).shape"
   ]
  },
  {
   "cell_type": "code",
   "execution_count": 54,
   "metadata": {},
   "outputs": [
    {
     "data": {
      "text/plain": [
       "torch.Size([4, 448, 384])"
      ]
     },
     "execution_count": 54,
     "metadata": {},
     "output_type": "execute_result"
    }
   ],
   "source": [
    "Netoutxz[:, 1, :, :].shape"
   ]
  },
  {
   "cell_type": "code",
   "execution_count": 19,
   "metadata": {},
   "outputs": [
    {
     "data": {
      "text/plain": [
       "171518"
      ]
     },
     "execution_count": 19,
     "metadata": {},
     "output_type": "execute_result"
    }
   ],
   "source": [
    "np.count_nonzero(predictionxz[0,0,:,:] > 0.9)"
   ]
  },
  {
   "cell_type": "code",
   "execution_count": 22,
   "metadata": {},
   "outputs": [
    {
     "data": {
      "text/plain": [
       "array([-443.36954, -119.60993,  223.00009,  353.92197], dtype=float32)"
      ]
     },
     "execution_count": 22,
     "metadata": {},
     "output_type": "execute_result"
    }
   ],
   "source": [
    "np.sum(XZ_train_batch.cpu().numpy(), axis=(1,2,3))"
   ]
  },
  {
   "cell_type": "code",
   "execution_count": null,
   "metadata": {},
   "outputs": [],
   "source": [
    "siglist=[]\n",
    "for items in file_list:\n",
    "    data = np.load( os.path.join( data_path, items ) )\n",
    "    siglist.append([items, data['sig']])"
   ]
  },
  {
   "cell_type": "code",
   "execution_count": null,
   "metadata": {},
   "outputs": [],
   "source": [
    "siglist"
   ]
  },
  {
   "cell_type": "code",
   "execution_count": 10,
   "metadata": {},
   "outputs": [],
   "source": [
    "# Prediction\n",
    "preds = []\n",
    "reals = []\n",
    "\n",
    "for (batch_idx, batch) in enumerate(testloader):\n",
    "    XZ_test_batch = batch[0].cuda() # remove .cuda() if you don't have a GPU\n",
    "    YZ_test_batch = batch[1].cuda() # remove .cuda() if you don't have a GPU\n",
    "    sig_test_batch = batch[2].cuda() # remove .cuda() if you don't have a GPU\n",
    "\n",
    "    Netout = net.forward(XZ_test_batch, YZ_test_batch) # This will call the forward function, usually it returns tensors.\n",
    "    #print(Netout.shape)\n",
    "    prediction=Netout\n",
    "    #print(predictor)\n",
    "\n",
    "    preds.append(prediction.cpu().detach().numpy())\n",
    "    \n",
    "    reals.append(sig_test_batch.cpu().detach().numpy())\n",
    "preds=np.array(preds)\n",
    "reals=np.array(reals)"
   ]
  },
  {
   "cell_type": "code",
   "execution_count": 11,
   "metadata": {},
   "outputs": [
    {
     "data": {
      "image/png": "[encoded data removed]",
      "text/plain": [
       "<Figure size 720x504 with 2 Axes>"
      ]
     },
     "metadata": {
      "needs_background": "light"
     },
     "output_type": "display_data"
    }
   ],
   "source": [
    "from sklearn.metrics import confusion_matrix\n",
    "import seaborn as sn\n",
    "import pandas as pd\n",
    "import matplotlib.pyplot as plt\n",
    "\n",
    "df_cm = pd.DataFrame(confusion_matrix(reals.flatten(), preds.flatten()), index = ['background', 'signal'],\n",
    "                  columns = ['background', 'signal'])\n",
    "plt.figure(figsize = (10,7))\n",
    "plt.xlabel('Predicted')\n",
    "plt.ylabel('Actual')\n",
    "sn.heatmap(df_cm, annot=True, cmap=\"jet\")\n",
    "plt.show()\n",
    "\n",
    "# Confusion matrix whose i-th row and j-th column entry indicates the number of samples with true label being i-th class and predicted label being j-th class."
   ]
  },
  {
   "cell_type": "code",
   "execution_count": null,
   "metadata": {},
   "outputs": [
    {
     "data": {
      "text/plain": [
       "359"
      ]
     },
     "execution_count": 11,
     "metadata": {},
     "output_type": "execute_result"
    }
   ],
   "source": [
    "np.sum(reals.flatten())"
   ]
  },
  {
   "cell_type": "code",
   "execution_count": 15,
   "metadata": {},
   "outputs": [],
   "source": [
    "torch.save(net, './model_save_train_VGG_reduced_time.pth')"
   ]
  },
  {
   "cell_type": "code",
   "execution_count": 12,
   "metadata": {},
   "outputs": [],
   "source": [
    "net = torch.load('./model_save_train_VGG_reduced_time.pth')\n"
   ]
  },
  {
   "cell_type": "code",
   "execution_count": null,
   "metadata": {},
   "outputs": [
    {
     "data": {
      "text/plain": [
       "array([[ 45,  12],\n",
       "       [  8, 335]], dtype=int64)"
      ]
     },
     "execution_count": 24,
     "metadata": {},
     "output_type": "execute_result"
    }
   ],
   "source": [
    "confusion_matrix(reals.flatten(), preds.flatten())"
   ]
  },
  {
   "cell_type": "code",
   "execution_count": null,
   "metadata": {},
   "outputs": [],
   "source": []
  }
 ],
 "metadata": {
  "interpreter": {
   "hash": "6e343a66b0d3f3fb9e5b3006acd45e89d57a985b4e0912ddff9600a29bb2e852"
  },
  "kernelspec": {
   "display_name": "Python 3.9.6 64-bit",
   "name": "python3"
  },
  "language_info": {
   "codemirror_mode": {
    "name": "ipython",
    "version": 3
   },
   "file_extension": ".py",
   "mimetype": "text/x-python",
   "name": "python",
   "nbconvert_exporter": "python",
   "pygments_lexer": "ipython3",
   "version": "3.9.6"
  },
  "orig_nbformat": 4
 },
 "nbformat": 4,
 "nbformat_minor": 2
}
