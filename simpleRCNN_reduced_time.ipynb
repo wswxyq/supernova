{
 "cells": [
  {
   "cell_type": "code",
   "execution_count": 1,
   "metadata": {},
   "outputs": [],
   "source": [
    "from __future__ import print_function, division\n",
    "import os\n",
    "import torch\n",
    "import pandas as pd\n",
    "import numpy as np\n",
    "import matplotlib.pyplot as plt\n",
    "from torch.utils.data import Dataset, DataLoader\n",
    "from torchvision import transforms, utils\n",
    "from os import listdir\n"
   ]
  },
  {
   "cell_type": "code",
   "execution_count": 2,
   "metadata": {},
   "outputs": [],
   "source": [
    "data_path = ['fd-1kpc-9.6sm-0-overlaid.csv/npz_subevents']\n",
    "file_list = []\n",
    "for path_ in data_path:\n",
    "    for file_ in listdir(path_):\n",
    "        file_list.append(os.path.join(path_, file_))\n",
    "file_list.sort()"
   ]
  },
  {
   "cell_type": "code",
   "execution_count": 3,
   "metadata": {},
   "outputs": [
    {
     "name": "stdout",
     "output_type": "stream",
     "text": [
      "208\n",
      "192\n"
     ]
    }
   ],
   "source": [
    "siglist=[]\n",
    "for items in file_list:\n",
    "    data = np.load( items )\n",
    "    siglist.append(data['sig'])\n",
    "\n",
    "sigindex=np.array(file_list, dtype='U')[np.array(siglist, dtype=int)==1]\n",
    "bkgindex=np.array(file_list, dtype='U')[np.array(siglist, dtype=int)==0]\n",
    "print(len(sigindex))\n",
    "print(len(bkgindex))"
   ]
  },
  {
   "cell_type": "code",
   "execution_count": 4,
   "metadata": {},
   "outputs": [],
   "source": [
    "from torch.utils.data import Dataset, DataLoader, TensorDataset\n",
    "class MyDataset(Dataset):\n",
    "    def __init__(self, file_list_):\n",
    "        self.file_list = file_list_\n",
    "        self.len = len(file_list_)\n",
    "\n",
    "    def __getitem__(self, index):\n",
    "        file_name = self.file_list[index]\n",
    "        data = np.load( file_name ) \n",
    "        return torch.from_numpy(data['imxz'][:, :, :]).to(torch.float), torch.from_numpy(data['imyz'][:, :, :]).to(torch.float), torch.from_numpy(data['sig']).to(torch.float)\n",
    "    def __len__(self):\n",
    "        return self.len\n",
    "\n",
    "mydataset = MyDataset(file_list)\n",
    "batch_size_train = 6\n",
    "batch_size_test = 2\n",
    "\n",
    "\n",
    "train_size = int(0.8 * len(mydataset))\n",
    "test_size = len(mydataset) - train_size\n",
    "train_dataset, test_dataset = torch.utils.data.random_split(mydataset, [train_size, test_size], generator=torch.Generator().manual_seed(42))\n",
    "\n",
    "trainloader = torch.utils.data.DataLoader(train_dataset, batch_size=batch_size_train,\n",
    "                                            shuffle=True)\n",
    "testloader = torch.utils.data.DataLoader(test_dataset, batch_size=batch_size_test,\n",
    "                                            shuffle=False)                "
   ]
  },
  {
   "cell_type": "code",
   "execution_count": 5,
   "metadata": {},
   "outputs": [],
   "source": [
    "import torch.nn as nn\n",
    "import torch.nn.functional as F\n",
    "class Net(nn.Module):\n",
    "    def __init__(self):\n",
    "        super().__init__()\n",
    "        self.conv1_1 = nn.Conv2d(2, 64, 5) \n",
    "        self.conv1_2 = nn.Conv2d(2, 64, 5) \n",
    "        self.pool = nn.MaxPool2d(2, 2)\n",
    "        self.conv2_1 = nn.Conv2d(64, 128, 5)\n",
    "        self.conv2_2 = nn.Conv2d(64, 128, 5)\n",
    "        self.conv3_1 = nn.Conv2d(128, 256, 6)\n",
    "        self.conv3_2 = nn.Conv2d(128, 256, 6)\n",
    "\n",
    "        self.fc1_1 = nn.Linear(256 * 52 * 44, 50)\n",
    "        self.fc1_2 = nn.Linear(256 * 52 * 44, 50)\n",
    "        self.fc2= nn.Linear(100, 1)\n",
    "\n",
    "    def forward(self, x1, x2):\n",
    "        # x1, x2 shape: (896, 384)      channel = 2\n",
    "        x1 = self.pool(F.relu(self.conv1_1(x1))) # shape: (448, 384)->(444, 380)->(222, 190)\n",
    "        x1 = self.pool(F.relu(self.conv2_1(x1))) # shape: (222, 190)->(218, 186)->(109, 93)\n",
    "        x1 = self.pool(F.relu(self.conv3_1(x1))) # shape: (109, 93)->(104, 88)->(52, 44)\n",
    "        x1 = torch.flatten(x1, 1) # flatten all dimensions except batch \n",
    "        x1 = F.relu(self.fc1_1(x1))\n",
    "\n",
    "        x2 = self.pool(F.relu(self.conv1_2(x2))) # shape: (448, 384)->(444, 380)->(222, 190)\n",
    "        x2 = self.pool(F.relu(self.conv2_2(x2))) # shape: (222, 190)->(218, 186)->(109, 93)\n",
    "        x2 = self.pool(F.relu(self.conv3_2(x2))) # shape: (109, 93)->(104, 88)->(52, 44)\n",
    "        x2 = torch.flatten(x2, 1) # flatten all dimensions except batch \n",
    "        x2 = F.relu(self.fc1_2(x2))\n",
    "\n",
    "        return self.fc2(torch.cat((x1, x2), 1))\n",
    "net=Net().cuda()"
   ]
  },
  {
   "cell_type": "code",
   "execution_count": 6,
   "metadata": {},
   "outputs": [],
   "source": [
    "import torch.optim as optim\n",
    "\n",
    "criterion = nn.MSELoss()\n",
    "optimizer = optim.Adam(net.parameters(), lr=1e-3)"
   ]
  },
  {
   "cell_type": "code",
   "execution_count": 7,
   "metadata": {},
   "outputs": [
    {
     "data": {
      "text/plain": [
       "61349193"
      ]
     },
     "execution_count": 7,
     "metadata": {},
     "output_type": "execute_result"
    }
   ],
   "source": [
    "sum(p.numel() for p in net.parameters())"
   ]
  },
  {
   "cell_type": "code",
   "execution_count": 8,
   "metadata": {},
   "outputs": [
    {
     "data": {
      "text/plain": [
       "'NVIDIA GeForce GTX 1660 Ti'"
      ]
     },
     "execution_count": 8,
     "metadata": {},
     "output_type": "execute_result"
    }
   ],
   "source": [
    "torch.cuda.get_device_name(0)"
   ]
  },
  {
   "cell_type": "code",
   "execution_count": null,
   "metadata": {},
   "outputs": [],
   "source": [
    "# Training\n",
    "loss_list = []\n",
    "alpha=0.2\n",
    "epochs = 100\n",
    "\n",
    "\n",
    "accuracy_list = []\n",
    "\n",
    "for i in range(epochs):\n",
    "    net.train()\n",
    "    for (batch_idx, batch) in enumerate(trainloader):\n",
    "        XZ_train_batch = batch[0].cuda() # remove .cuda() if you don't have a GPU\n",
    "        YZ_train_batch = batch[1].cuda() # remove .cuda() if you don't have a GPU\n",
    "        sig_train_batch = batch[2].cuda() # remove .cuda() if you don't have a GPU\n",
    "\n",
    "        Netout = net.forward(XZ_train_batch, YZ_train_batch) # This will call the forward function, usually it returns tensors.\n",
    "        #print(F.softmax(Netout))\n",
    "        loss = criterion(Netout, sig_train_batch) # classification loss\n",
    "        \n",
    "        # Zero the gradients before running the backward pass.\n",
    "        optimizer.zero_grad() \n",
    "        \n",
    "        # Backward pass: compute gradient of the loss with respect to all the learnable\n",
    "        # parameters of the model. Internally, the parameters of each Module are stored\n",
    "        # in Tensors with requires_grad=True, so this call will compute gradients for\n",
    "        # all learnable parameters in the model.\n",
    "        loss.backward()\n",
    "        \n",
    "        # Calling the step function on an Optimizer makes an update to its\n",
    "        # parameters\n",
    "        optimizer.step()\n",
    "\n",
    "        loss_list.append(loss)\n",
    "        if batch_idx % 50 == 0 or True:\n",
    "            #print(\"Epoch: {}, batch: {} Loss: {} label_loss:{}\".format(i, batch_idx, loss, label_loss_))\n",
    "            print(\"Epoch: {}, batch: {} Loss: {:0.4f}\".format(i, batch_idx, loss))\n",
    "    \n",
    "    net.eval() # begin testing\n",
    "    preds = np.array([])\n",
    "    reals = np.array([])\n",
    "\n",
    "    with torch.no_grad():\n",
    "        for (batch_idx, batch) in enumerate(testloader):\n",
    "            XZ_test_batch = batch[0].cuda() # remove .cuda() if you don't have a GPU\n",
    "            YZ_test_batch = batch[1].cuda() # remove .cuda() if you don't have a GPU\n",
    "            sig_test_batch = batch[2].cuda() # remove .cuda() if you don't have a GPU\n",
    "\n",
    "            Netout = net.forward(XZ_test_batch, YZ_test_batch) # This will call the forward function, usually it returns tensors.\n",
    "            #print(Netout.shape)\n",
    "            prediction=Netout\n",
    "            \n",
    "\n",
    "            preds=np.concatenate((preds, prediction.cpu().detach().numpy().flatten()))\n",
    "            reals=np.concatenate((reals, sig_test_batch.cpu().detach().numpy().flatten()))\n",
    "        preds=np.array(preds)\n",
    "        reals=np.array(reals)\n",
    "        accuracy=np.mean((preds-reals)**2)\n",
    "        accuracy_list.append(accuracy)\n",
    "        print(\"Test accuracy: {}\".format(accuracy))\n"
   ]
  },
  {
   "cell_type": "code",
   "execution_count": null,
   "metadata": {},
   "outputs": [],
   "source": [
    "siglist=[]\n",
    "for items in file_list:\n",
    "    data = np.load( os.path.join( data_path, items ) )\n",
    "    siglist.append([items, data['sig']])"
   ]
  },
  {
   "cell_type": "code",
   "execution_count": null,
   "metadata": {},
   "outputs": [],
   "source": []
  },
  {
   "cell_type": "code",
   "execution_count": null,
   "metadata": {},
   "outputs": [],
   "source": [
    "siglist"
   ]
  },
  {
   "cell_type": "code",
   "execution_count": 15,
   "metadata": {},
   "outputs": [],
   "source": [
    "# Prediction\n",
    "preds = []\n",
    "reals = []\n",
    "\n",
    "for (batch_idx, batch) in enumerate(testloader):\n",
    "    XZ_test_batch = batch[0].cuda() # remove .cuda() if you don't have a GPU\n",
    "    YZ_test_batch = batch[1].cuda() # remove .cuda() if you don't have a GPU\n",
    "    sig_test_batch = batch[2].cuda() # remove .cuda() if you don't have a GPU\n",
    "\n",
    "    Netout = net.forward(XZ_test_batch, YZ_test_batch) # This will call the forward function, usually it returns tensors.\n",
    "    #print(Netout.shape)\n",
    "    prediction=Netout\n",
    "    #print(predictor)\n",
    "\n",
    "    preds.append(prediction.cpu().detach().numpy())\n",
    "    \n",
    "    reals.append(sig_test_batch.cpu().detach().numpy())\n",
    "preds=np.array(preds)\n",
    "reals=np.array(reals)"
   ]
  },
  {
   "cell_type": "code",
   "execution_count": 11,
   "metadata": {},
   "outputs": [
    {
     "data": {
      "image/png": "[encoded data removed]",
      "text/plain": [
       "<Figure size 720x504 with 2 Axes>"
      ]
     },
     "metadata": {
      "needs_background": "light"
     },
     "output_type": "display_data"
    }
   ],
   "source": [
    "from sklearn.metrics import confusion_matrix\n",
    "import seaborn as sn\n",
    "import pandas as pd\n",
    "import matplotlib.pyplot as plt\n",
    "\n",
    "df_cm = pd.DataFrame(confusion_matrix(reals.flatten(), preds.flatten()), index = ['background', 'signal'],\n",
    "                  columns = ['background', 'signal'])\n",
    "plt.figure(figsize = (10,7))\n",
    "plt.xlabel('Predicted')\n",
    "plt.ylabel('Actual')\n",
    "sn.heatmap(df_cm, annot=True, cmap=\"jet\")\n",
    "plt.show()\n",
    "\n",
    "# Confusion matrix whose i-th row and j-th column entry indicates the number of samples with true label being i-th class and predicted label being j-th class."
   ]
  },
  {
   "cell_type": "code",
   "execution_count": 12,
   "metadata": {},
   "outputs": [
    {
     "data": {
      "text/plain": [
       "41.0"
      ]
     },
     "execution_count": 12,
     "metadata": {},
     "output_type": "execute_result"
    }
   ],
   "source": [
    "np.sum(reals.flatten())"
   ]
  },
  {
   "cell_type": "code",
   "execution_count": 11,
   "metadata": {},
   "outputs": [],
   "source": [
    "torch.save(net, './model_save_train_VGG_reduced_time.pth')"
   ]
  },
  {
   "cell_type": "code",
   "execution_count": 9,
   "metadata": {},
   "outputs": [],
   "source": [
    "net = torch.load('./model_save_train_VGG_reduced_time.pth')\n"
   ]
  },
  {
   "cell_type": "code",
   "execution_count": null,
   "metadata": {},
   "outputs": [
    {
     "data": {
      "text/plain": [
       "array([[ 45,  12],\n",
       "       [  8, 335]], dtype=int64)"
      ]
     },
     "execution_count": 24,
     "metadata": {},
     "output_type": "execute_result"
    }
   ],
   "source": [
    "confusion_matrix(reals.flatten(), preds.flatten())"
   ]
  },
  {
   "cell_type": "code",
   "execution_count": 16,
   "metadata": {},
   "outputs": [
    {
     "data": {
      "text/plain": [
       "array([[[0.40362734],\n",
       "        [0.40550905]],\n",
       "\n",
       "       [[0.22553435],\n",
       "        [0.40490067]],\n",
       "\n",
       "       [[0.39987746],\n",
       "        [0.40550905]],\n",
       "\n",
       "       [[0.39987746],\n",
       "        [0.40550905]],\n",
       "\n",
       "       [[0.39987746],\n",
       "        [0.40613887]],\n",
       "\n",
       "       [[0.4067989 ],\n",
       "        [0.40631136]],\n",
       "\n",
       "       [[0.22553435],\n",
       "        [0.40345606]],\n",
       "\n",
       "       [[0.4066822 ],\n",
       "        [0.4066822 ]],\n",
       "\n",
       "       [[0.22553435],\n",
       "        [0.40550905]],\n",
       "\n",
       "       [[0.40631136],\n",
       "        [0.40550905]],\n",
       "\n",
       "       [[0.40362734],\n",
       "        [0.4067989 ]],\n",
       "\n",
       "       [[0.40631136],\n",
       "        [0.40550905]],\n",
       "\n",
       "       [[0.40550905],\n",
       "        [0.22553435]],\n",
       "\n",
       "       [[0.40345606],\n",
       "        [0.40631136]],\n",
       "\n",
       "       [[0.40550905],\n",
       "        [0.40613887]],\n",
       "\n",
       "       [[0.40490067],\n",
       "        [0.40490067]],\n",
       "\n",
       "       [[0.4067989 ],\n",
       "        [0.4067989 ]],\n",
       "\n",
       "       [[0.40490067],\n",
       "        [0.40550905]],\n",
       "\n",
       "       [[0.40345606],\n",
       "        [0.40490067]],\n",
       "\n",
       "       [[0.40345606],\n",
       "        [0.4067989 ]],\n",
       "\n",
       "       [[0.40631136],\n",
       "        [0.39987746]],\n",
       "\n",
       "       [[0.40631136],\n",
       "        [0.40345606]],\n",
       "\n",
       "       [[0.40613887],\n",
       "        [0.40613887]],\n",
       "\n",
       "       [[0.40613887],\n",
       "        [0.40490067]],\n",
       "\n",
       "       [[0.4066822 ],\n",
       "        [0.4067989 ]],\n",
       "\n",
       "       [[0.40490067],\n",
       "        [0.40613887]],\n",
       "\n",
       "       [[0.40345606],\n",
       "        [0.40550905]],\n",
       "\n",
       "       [[0.40362734],\n",
       "        [0.39987746]],\n",
       "\n",
       "       [[0.39987746],\n",
       "        [0.4066822 ]],\n",
       "\n",
       "       [[0.40345606],\n",
       "        [0.4067989 ]],\n",
       "\n",
       "       [[0.4066822 ],\n",
       "        [0.4066822 ]],\n",
       "\n",
       "       [[0.40550905],\n",
       "        [0.4066822 ]],\n",
       "\n",
       "       [[0.40613887],\n",
       "        [0.39987746]],\n",
       "\n",
       "       [[0.40362734],\n",
       "        [0.22553435]],\n",
       "\n",
       "       [[0.4066822 ],\n",
       "        [0.40362734]],\n",
       "\n",
       "       [[0.40490067],\n",
       "        [0.40345606]],\n",
       "\n",
       "       [[0.40362734],\n",
       "        [0.4067989 ]],\n",
       "\n",
       "       [[0.40345606],\n",
       "        [0.39987746]],\n",
       "\n",
       "       [[0.4067989 ],\n",
       "        [0.40613887]],\n",
       "\n",
       "       [[0.4067989 ],\n",
       "        [0.40550905]]], dtype=float32)"
      ]
     },
     "execution_count": 16,
     "metadata": {},
     "output_type": "execute_result"
    }
   ],
   "source": [
    "preds"
   ]
  },
  {
   "cell_type": "code",
   "execution_count": null,
   "metadata": {},
   "outputs": [],
   "source": []
  }
 ],
 "metadata": {
  "interpreter": {
   "hash": "6e343a66b0d3f3fb9e5b3006acd45e89d57a985b4e0912ddff9600a29bb2e852"
  },
  "kernelspec": {
   "display_name": "Python 3.9.6 64-bit",
   "name": "python3"
  },
  "language_info": {
   "codemirror_mode": {
    "name": "ipython",
    "version": 3
   },
   "file_extension": ".py",
   "mimetype": "text/x-python",
   "name": "python",
   "nbconvert_exporter": "python",
   "pygments_lexer": "ipython3",
   "version": "3.9.6"
  },
  "orig_nbformat": 4
 },
 "nbformat": 4,
 "nbformat_minor": 2
}
